{
 "cells": [
  {
   "cell_type": "code",
   "execution_count": 1,
   "id": "7c68a91d",
   "metadata": {},
   "outputs": [],
   "source": [
    "import os\n",
    "import requests\n",
    "import numpy as np\n",
    "import pandas as pd\n",
    "from plexapi.server import PlexServer\n",
    "from sklearn.feature_extraction.text import TfidfVectorizer\n",
    "from sklearn.decomposition import TruncatedSVD\n",
    "from sklearn.preprocessing import MultiLabelBinarizer, MinMaxScaler\n",
    "from sklearn.neighbors import NearestNeighbors"
   ]
  },
  {
   "cell_type": "code",
   "execution_count": 2,
   "id": "5dd03846",
   "metadata": {},
   "outputs": [],
   "source": [
    "PLEX_BASE_URL = \"http://peterubuntuserver.ddns.net:32400\"\n",
    "PLEX_TOKEN    = \"ydWQy8X6StWBJVPHiLf2\"\n",
    "TMDB_API_KEY  = \"ea023fa0879737d0cfd9ae3ca7365a6e\"\n",
    "\n",
    "plex = PlexServer(PLEX_BASE_URL, PLEX_TOKEN)"
   ]
  },
  {
   "cell_type": "code",
   "execution_count": 3,
   "id": "652eb872",
   "metadata": {},
   "outputs": [],
   "source": [
    "class Movie():\n",
    "    def tmdb_get(self, path, **params):\n",
    "        url = f\"https://api.themoviedb.org/3{path}\"\n",
    "        params[\"api_key\"] = TMDB_API_KEY\n",
    "        return requests.get(url, params=params).json()\n",
    "    \n",
    "    def enrich_with_tmdb(self, df):\n",
    "        meta = []\n",
    "        for _, row in df.iterrows():\n",
    "            tid = row[\"tmdb_id\"]\n",
    "            info  = self.tmdb_get(f\"/movie/{tid}\", language=\"en-US\")\n",
    "            creds = self.tmdb_get(f\"/movie/{tid}/credits\")\n",
    "\n",
    "            genres   = [g[\"name\"] for g in info.get(\"genres\", [])]\n",
    "            overview = info.get(\"overview\", \"\") or \"\"\n",
    "            runtime  = info.get(\"runtime\") or 0\n",
    "            vote     = info.get(\"vote_average\") or 0\n",
    "            rd       = info.get(\"release_date\") or \"\"\n",
    "\n",
    "            cast5 = [c[\"name\"] for c in creds.get(\"cast\", [])[:5] if c.get(\"name\")]\n",
    "            dirs  = [c[\"name\"] for c in creds.get(\"crew\", []) if c.get(\"job\") == \"Director\"]\n",
    "\n",
    "            meta.append({\n",
    "                \"overview\": overview,\n",
    "                \"genres\": genres,\n",
    "                \"runtime\": runtime,\n",
    "                \"vote\": vote,\n",
    "                \"release_date\": rd,\n",
    "                \"cast\": cast5,\n",
    "                \"directors\": dirs\n",
    "            })\n",
    "        return pd.DataFrame(meta)"
   ]
  },
  {
   "cell_type": "code",
   "execution_count": 4,
   "id": "f3b3814d",
   "metadata": {},
   "outputs": [],
   "source": [
    "class Model():\n",
    "    def build_features(self, df):\n",
    "        # MultiLabelBinarizer on pure Python lists\n",
    "        G = MultiLabelBinarizer().fit_transform(df[\"genres\"].tolist())\n",
    "        C = MultiLabelBinarizer().fit_transform(df[\"cast\"].tolist())\n",
    "        D = MultiLabelBinarizer().fit_transform(df[\"directors\"].tolist())\n",
    "\n",
    "        # Numeric features via .values → ensure ndarray\n",
    "        runtimes = df[\"runtime\"].fillna(0).astype(float).values\n",
    "        votes    = df[\"vote\"].fillna(0).astype(float).values\n",
    "        years    = (\n",
    "            pd.to_datetime(df[\"release_date\"], errors=\"coerce\")\n",
    "            .dt.year.fillna(2000).astype(int)\n",
    "            .values\n",
    "        )\n",
    "        nums = np.vstack([runtimes, votes, years]).T\n",
    "\n",
    "        # scale to [0,1]\n",
    "        N = MinMaxScaler().fit_transform(nums)\n",
    "\n",
    "        # TF-IDF on overview (force list) + SVD → dense float array\n",
    "        overviews = df[\"overview\"].fillna(\"\").tolist()\n",
    "        Xtxt = TfidfVectorizer(max_features=2000, stop_words=\"english\")\\\n",
    "            .fit_transform(overviews)\n",
    "        Ttxt = TruncatedSVD(n_components=100, random_state=42)\\\n",
    "            .fit_transform(Xtxt)\n",
    "\n",
    "        # H-stack everything into one 2D float array\n",
    "        X = np.hstack([G, C, D, N, Ttxt]).astype(float)\n",
    "        return X\n",
    "\n",
    "\n",
    "    def train_index(self, X):\n",
    "        # brute‐force cosine on a dense array\n",
    "        return NearestNeighbors(\n",
    "            n_neighbors=6,\n",
    "            metric=\"cosine\",\n",
    "            algorithm=\"brute\"\n",
    "        ).fit(X)\n",
    "\n",
    "\n",
    "    def recommend(self, title, df, X, knn):\n",
    "        if \"title\" not in df.columns:\n",
    "            raise KeyError(\"DataFrame must have a 'title' column\")\n",
    "        mask = df[\"title\"] == title\n",
    "        if not mask.any():\n",
    "            raise ValueError(f\"'{title}' not in library\")\n",
    "        idx = df.index[mask][0]\n",
    "        dist, nn = knn.kneighbors(X[idx].reshape(1, -1), n_neighbors=6)\n",
    "        recs = df.iloc[nn[0]][[\"title\"]].copy()\n",
    "        recs[\"score\"] = 1 - dist[0]\n",
    "        return recs.iloc[1:].reset_index(drop=True)"
   ]
  },
  {
   "cell_type": "code",
   "execution_count": 5,
   "id": "a41d5b32",
   "metadata": {},
   "outputs": [],
   "source": [
    "def fetch_plex_list(type=\"Movies\"):\n",
    "    rows = []\n",
    "    for m in plex.library.section(\"Movies\").all():\n",
    "        tmdb_id = None\n",
    "        for g in m.guids:\n",
    "            if \"tmdb\" in g.id:\n",
    "                tmdb_id = g.id.split(\"//\")[-1].split(\"?\")[0]\n",
    "                break\n",
    "        if tmdb_id:\n",
    "            rows.append({\"title\": m.title, \"tmdb_id\": tmdb_id})\n",
    "    return pd.DataFrame(rows)"
   ]
  },
  {
   "cell_type": "code",
   "execution_count": 6,
   "id": "d25590db",
   "metadata": {},
   "outputs": [],
   "source": [
    "movie_obj = Movie()\n",
    "model = Model()\n",
    "df_movies = fetch_plex_list()\n",
    "df_meta   = movie_obj.enrich_with_tmdb(df_movies)\n",
    "df = pd.concat([df_movies.reset_index(drop=True),\n",
    "                df_meta.reset_index(drop=True)], axis=1)\n",
    "\n",
    "X   = model.build_features(df)\n",
    "knn = model.train_index(X)"
   ]
  },
  {
   "cell_type": "code",
   "execution_count": 11,
   "id": "626e1ae1",
   "metadata": {},
   "outputs": [
    {
     "name": "stdout",
     "output_type": "stream",
     "text": [
      "\n",
      "Recommendations for 'Step Brothers':\n",
      "                                      title    score\n",
      "Talladega Nights: The Ballad of Ricky Bobby 0.595785\n",
      "          Anchorman 2: The Legend Continues 0.474102\n",
      "      Anchorman: The Legend of Ron Burgundy 0.461508\n",
      "                                        Elf 0.432816\n",
      "                              The Big Short 0.361651\n"
     ]
    }
   ],
   "source": [
    "seed = \"Step Brothers\"\n",
    "print(f\"\\nRecommendations for {seed!r}:\")\n",
    "print(model.recommend(seed, df, X, knn).to_string(index=False))"
   ]
  }
 ],
 "metadata": {
  "kernelspec": {
   "display_name": "reccomendations",
   "language": "python",
   "name": "python3"
  },
  "language_info": {
   "codemirror_mode": {
    "name": "ipython",
    "version": 3
   },
   "file_extension": ".py",
   "mimetype": "text/x-python",
   "name": "python",
   "nbconvert_exporter": "python",
   "pygments_lexer": "ipython3",
   "version": "3.11.9"
  }
 },
 "nbformat": 4,
 "nbformat_minor": 5
}
